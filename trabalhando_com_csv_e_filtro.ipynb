{
 "cells": [
  {
   "cell_type": "code",
   "execution_count": 43,
   "id": "f2ad7c6c",
   "metadata": {},
   "outputs": [
    {
     "data": {
      "text/html": [
       "<div>\n",
       "<style scoped>\n",
       "    .dataframe tbody tr th:only-of-type {\n",
       "        vertical-align: middle;\n",
       "    }\n",
       "\n",
       "    .dataframe tbody tr th {\n",
       "        vertical-align: top;\n",
       "    }\n",
       "\n",
       "    .dataframe thead th {\n",
       "        text-align: right;\n",
       "    }\n",
       "</style>\n",
       "<table border=\"1\" class=\"dataframe\">\n",
       "  <thead>\n",
       "    <tr style=\"text-align: right;\">\n",
       "      <th></th>\n",
       "      <th>Unnamed: 0</th>\n",
       "      <th>atletas.nome</th>\n",
       "      <th>atletas.slug</th>\n",
       "      <th>atletas.apelido</th>\n",
       "      <th>atletas.foto</th>\n",
       "      <th>atletas.atleta_id</th>\n",
       "      <th>atletas.rodada_id</th>\n",
       "      <th>atletas.clube_id</th>\n",
       "      <th>atletas.posicao_id</th>\n",
       "      <th>atletas.status_id</th>\n",
       "      <th>...</th>\n",
       "      <th>DD</th>\n",
       "      <th>GS</th>\n",
       "      <th>A</th>\n",
       "      <th>SG</th>\n",
       "      <th>FD</th>\n",
       "      <th>FT</th>\n",
       "      <th>I</th>\n",
       "      <th>CV</th>\n",
       "      <th>GC</th>\n",
       "      <th>PP</th>\n",
       "    </tr>\n",
       "  </thead>\n",
       "  <tbody>\n",
       "    <tr>\n",
       "      <th>0</th>\n",
       "      <td>1</td>\n",
       "      <td>Danilo Alves da Silva</td>\n",
       "      <td>danilo</td>\n",
       "      <td>Danilo</td>\n",
       "      <td>NaN</td>\n",
       "      <td>107981</td>\n",
       "      <td>3</td>\n",
       "      <td>373</td>\n",
       "      <td>zag</td>\n",
       "      <td>Nulo</td>\n",
       "      <td>...</td>\n",
       "      <td>NaN</td>\n",
       "      <td>NaN</td>\n",
       "      <td>NaN</td>\n",
       "      <td>NaN</td>\n",
       "      <td>NaN</td>\n",
       "      <td>NaN</td>\n",
       "      <td>NaN</td>\n",
       "      <td>NaN</td>\n",
       "      <td>NaN</td>\n",
       "      <td>NaN</td>\n",
       "    </tr>\n",
       "    <tr>\n",
       "      <th>1</th>\n",
       "      <td>2</td>\n",
       "      <td>Jorge de Moura Xavier</td>\n",
       "      <td>jorginho</td>\n",
       "      <td>Jorginho</td>\n",
       "      <td>https://s.glbimg.com/es/sde/f/2020/02/27/85109...</td>\n",
       "      <td>77544</td>\n",
       "      <td>3</td>\n",
       "      <td>373</td>\n",
       "      <td>mei</td>\n",
       "      <td>Provável</td>\n",
       "      <td>...</td>\n",
       "      <td>NaN</td>\n",
       "      <td>NaN</td>\n",
       "      <td>NaN</td>\n",
       "      <td>NaN</td>\n",
       "      <td>NaN</td>\n",
       "      <td>NaN</td>\n",
       "      <td>NaN</td>\n",
       "      <td>NaN</td>\n",
       "      <td>NaN</td>\n",
       "      <td>NaN</td>\n",
       "    </tr>\n",
       "    <tr>\n",
       "      <th>2</th>\n",
       "      <td>3</td>\n",
       "      <td>Thiago Heleno Henrique Ferreira</td>\n",
       "      <td>thiago-heleno</td>\n",
       "      <td>Thiago Heleno</td>\n",
       "      <td>https://s.glbimg.com/es/sde/f/2019/03/30/d941b...</td>\n",
       "      <td>38394</td>\n",
       "      <td>3</td>\n",
       "      <td>293</td>\n",
       "      <td>zag</td>\n",
       "      <td>Provável</td>\n",
       "      <td>...</td>\n",
       "      <td>NaN</td>\n",
       "      <td>NaN</td>\n",
       "      <td>NaN</td>\n",
       "      <td>NaN</td>\n",
       "      <td>NaN</td>\n",
       "      <td>NaN</td>\n",
       "      <td>NaN</td>\n",
       "      <td>NaN</td>\n",
       "      <td>NaN</td>\n",
       "      <td>NaN</td>\n",
       "    </tr>\n",
       "    <tr>\n",
       "      <th>3</th>\n",
       "      <td>4</td>\n",
       "      <td>Maurício Kozlinski</td>\n",
       "      <td>mauricio-kozlinski</td>\n",
       "      <td>Maurício Kozlinski</td>\n",
       "      <td>https://s.glbimg.com/es/sde/f/2020/02/27/c1afa...</td>\n",
       "      <td>72595</td>\n",
       "      <td>3</td>\n",
       "      <td>373</td>\n",
       "      <td>gol</td>\n",
       "      <td>Nulo</td>\n",
       "      <td>...</td>\n",
       "      <td>NaN</td>\n",
       "      <td>NaN</td>\n",
       "      <td>NaN</td>\n",
       "      <td>NaN</td>\n",
       "      <td>NaN</td>\n",
       "      <td>NaN</td>\n",
       "      <td>NaN</td>\n",
       "      <td>NaN</td>\n",
       "      <td>NaN</td>\n",
       "      <td>NaN</td>\n",
       "    </tr>\n",
       "    <tr>\n",
       "      <th>4</th>\n",
       "      <td>5</td>\n",
       "      <td>Moacir Costa da Silva</td>\n",
       "      <td>moacir</td>\n",
       "      <td>Moacir</td>\n",
       "      <td>https://s.glbimg.com/es/sde/f/2020/02/27/9937a...</td>\n",
       "      <td>60858</td>\n",
       "      <td>3</td>\n",
       "      <td>373</td>\n",
       "      <td>mei</td>\n",
       "      <td>Nulo</td>\n",
       "      <td>...</td>\n",
       "      <td>NaN</td>\n",
       "      <td>NaN</td>\n",
       "      <td>NaN</td>\n",
       "      <td>NaN</td>\n",
       "      <td>NaN</td>\n",
       "      <td>NaN</td>\n",
       "      <td>NaN</td>\n",
       "      <td>NaN</td>\n",
       "      <td>NaN</td>\n",
       "      <td>NaN</td>\n",
       "    </tr>\n",
       "  </tbody>\n",
       "</table>\n",
       "<p>5 rows × 33 columns</p>\n",
       "</div>"
      ],
      "text/plain": [
       "   Unnamed: 0                     atletas.nome        atletas.slug  \\\n",
       "0           1            Danilo Alves da Silva              danilo   \n",
       "1           2            Jorge de Moura Xavier            jorginho   \n",
       "2           3  Thiago Heleno Henrique Ferreira       thiago-heleno   \n",
       "3           4               Maurício Kozlinski  mauricio-kozlinski   \n",
       "4           5            Moacir Costa da Silva              moacir   \n",
       "\n",
       "      atletas.apelido                                       atletas.foto  \\\n",
       "0              Danilo                                                NaN   \n",
       "1            Jorginho  https://s.glbimg.com/es/sde/f/2020/02/27/85109...   \n",
       "2       Thiago Heleno  https://s.glbimg.com/es/sde/f/2019/03/30/d941b...   \n",
       "3  Maurício Kozlinski  https://s.glbimg.com/es/sde/f/2020/02/27/c1afa...   \n",
       "4              Moacir  https://s.glbimg.com/es/sde/f/2020/02/27/9937a...   \n",
       "\n",
       "   atletas.atleta_id  atletas.rodada_id  atletas.clube_id atletas.posicao_id  \\\n",
       "0             107981                  3               373                zag   \n",
       "1              77544                  3               373                mei   \n",
       "2              38394                  3               293                zag   \n",
       "3              72595                  3               373                gol   \n",
       "4              60858                  3               373                mei   \n",
       "\n",
       "  atletas.status_id  ...  DD  GS   A  SG  FD  FT   I  CV  GC  PP  \n",
       "0              Nulo  ... NaN NaN NaN NaN NaN NaN NaN NaN NaN NaN  \n",
       "1          Provável  ... NaN NaN NaN NaN NaN NaN NaN NaN NaN NaN  \n",
       "2          Provável  ... NaN NaN NaN NaN NaN NaN NaN NaN NaN NaN  \n",
       "3              Nulo  ... NaN NaN NaN NaN NaN NaN NaN NaN NaN NaN  \n",
       "4              Nulo  ... NaN NaN NaN NaN NaN NaN NaN NaN NaN NaN  \n",
       "\n",
       "[5 rows x 33 columns]"
      ]
     },
     "execution_count": 43,
     "metadata": {},
     "output_type": "execute_result"
    }
   ],
   "source": [
    "import pandas as pd\n",
    "\n",
    "path = \"https://raw.githubusercontent.com/henriquepgomide/caRtola/master/data/01_raw/2020/rodada-3.csv\"\n",
    "\n",
    "df = pd.read_csv(path) #Dados CSV já são dataframe.\n",
    "df.head()\n",
    "\n"
   ]
  },
  {
   "cell_type": "raw",
   "id": "8a365d6b",
   "metadata": {},
   "source": [
    "Existem funções do pandas que fazem a busca de PDF, png, JPG, txt e etc. Não somente csv\n",
    "UCL datasets é um bom site para buscar dados.\n",
    "Mesmo que haja várias colunas, o código não vai conseguir imprimir todas."
   ]
  },
  {
   "cell_type": "code",
   "execution_count": null,
   "id": "83b6b5f0",
   "metadata": {},
   "outputs": [],
   "source": []
  },
  {
   "cell_type": "code",
   "execution_count": null,
   "id": "a50c39a5",
   "metadata": {},
   "outputs": [],
   "source": []
  },
  {
   "cell_type": "code",
   "execution_count": 44,
   "id": "27e5a743",
   "metadata": {},
   "outputs": [
    {
     "name": "stdout",
     "output_type": "stream",
     "text": [
      "Index(['Unnamed: 0', 'atletas.nome', 'atletas.slug', 'atletas.apelido',\n",
      "       'atletas.foto', 'atletas.atleta_id', 'atletas.rodada_id',\n",
      "       'atletas.clube_id', 'atletas.posicao_id', 'atletas.status_id',\n",
      "       'atletas.pontos_num', 'atletas.preco_num', 'atletas.variacao_num',\n",
      "       'atletas.media_num', 'atletas.jogos_num', 'atletas.clube.id.full.name',\n",
      "       'DS', 'FC', 'FF', 'FS', 'G', 'PI', 'CA', 'DD', 'GS', 'A', 'SG', 'FD',\n",
      "       'FT', 'I', 'CV', 'GC', 'PP'],\n",
      "      dtype='object')\n"
     ]
    }
   ],
   "source": [
    "#Só saberei o que significa cada coluna quando eu ver o dicionário de dados\n",
    "print(df.columns)"
   ]
  },
  {
   "cell_type": "markdown",
   "id": "f11de2a5",
   "metadata": {},
   "source": [
    "# Exercícios\n"
   ]
  },
  {
   "cell_type": "raw",
   "id": "351308a7",
   "metadata": {},
   "source": [
    " 2. Exiba os nomes dos atletas e seus respectivos times com preço acuma de 20 cartoetas no dataset em questão"
   ]
  },
  {
   "cell_type": "code",
   "execution_count": 45,
   "id": "0823b6f4",
   "metadata": {},
   "outputs": [
    {
     "data": {
      "text/html": [
       "<div>\n",
       "<style scoped>\n",
       "    .dataframe tbody tr th:only-of-type {\n",
       "        vertical-align: middle;\n",
       "    }\n",
       "\n",
       "    .dataframe tbody tr th {\n",
       "        vertical-align: top;\n",
       "    }\n",
       "\n",
       "    .dataframe thead th {\n",
       "        text-align: right;\n",
       "    }\n",
       "</style>\n",
       "<table border=\"1\" class=\"dataframe\">\n",
       "  <thead>\n",
       "    <tr style=\"text-align: right;\">\n",
       "      <th></th>\n",
       "      <th>atletas.nome</th>\n",
       "      <th>atletas.clube.id.full.name</th>\n",
       "    </tr>\n",
       "  </thead>\n",
       "  <tbody>\n",
       "    <tr>\n",
       "      <th>0</th>\n",
       "      <td>Danilo Alves da Silva</td>\n",
       "      <td>Atlético-GO</td>\n",
       "    </tr>\n",
       "    <tr>\n",
       "      <th>1</th>\n",
       "      <td>Jorge de Moura Xavier</td>\n",
       "      <td>Atlético-GO</td>\n",
       "    </tr>\n",
       "    <tr>\n",
       "      <th>2</th>\n",
       "      <td>Thiago Heleno Henrique Ferreira</td>\n",
       "      <td>Athlético-PR</td>\n",
       "    </tr>\n",
       "    <tr>\n",
       "      <th>3</th>\n",
       "      <td>Maurício Kozlinski</td>\n",
       "      <td>Atlético-GO</td>\n",
       "    </tr>\n",
       "    <tr>\n",
       "      <th>4</th>\n",
       "      <td>Moacir Costa da Silva</td>\n",
       "      <td>Atlético-GO</td>\n",
       "    </tr>\n",
       "    <tr>\n",
       "      <th>...</th>\n",
       "      <td>...</td>\n",
       "      <td>...</td>\n",
       "    </tr>\n",
       "    <tr>\n",
       "      <th>711</th>\n",
       "      <td>Marcelo de Araújo Pitaluga Filho</td>\n",
       "      <td>Fluminense</td>\n",
       "    </tr>\n",
       "    <tr>\n",
       "      <th>712</th>\n",
       "      <td>Osvaldo Lourenço Filho</td>\n",
       "      <td>Fortaleza</td>\n",
       "    </tr>\n",
       "    <tr>\n",
       "      <th>713</th>\n",
       "      <td>Michel Daryl Araújo Villar</td>\n",
       "      <td>Fluminense</td>\n",
       "    </tr>\n",
       "    <tr>\n",
       "      <th>714</th>\n",
       "      <td>Caio Fernando de Oliveira</td>\n",
       "      <td>Fluminense</td>\n",
       "    </tr>\n",
       "    <tr>\n",
       "      <th>715</th>\n",
       "      <td>Charles Rigon Mattos</td>\n",
       "      <td>Ceará</td>\n",
       "    </tr>\n",
       "  </tbody>\n",
       "</table>\n",
       "<p>716 rows × 2 columns</p>\n",
       "</div>"
      ],
      "text/plain": [
       "                         atletas.nome atletas.clube.id.full.name\n",
       "0               Danilo Alves da Silva                Atlético-GO\n",
       "1               Jorge de Moura Xavier                Atlético-GO\n",
       "2     Thiago Heleno Henrique Ferreira               Athlético-PR\n",
       "3                  Maurício Kozlinski                Atlético-GO\n",
       "4               Moacir Costa da Silva                Atlético-GO\n",
       "..                                ...                        ...\n",
       "711  Marcelo de Araújo Pitaluga Filho                 Fluminense\n",
       "712            Osvaldo Lourenço Filho                  Fortaleza\n",
       "713        Michel Daryl Araújo Villar                 Fluminense\n",
       "714         Caio Fernando de Oliveira                 Fluminense\n",
       "715              Charles Rigon Mattos                      Ceará\n",
       "\n",
       "[716 rows x 2 columns]"
      ]
     },
     "execution_count": 45,
     "metadata": {},
     "output_type": "execute_result"
    }
   ],
   "source": [
    "exe = df[['atletas.nome', 'atletas.clube.id.full.name']] \n",
    "exe\n"
   ]
  },
  {
   "cell_type": "code",
   "execution_count": 48,
   "id": "effc4ac8",
   "metadata": {},
   "outputs": [
    {
     "data": {
      "text/html": [
       "<div>\n",
       "<style scoped>\n",
       "    .dataframe tbody tr th:only-of-type {\n",
       "        vertical-align: middle;\n",
       "    }\n",
       "\n",
       "    .dataframe tbody tr th {\n",
       "        vertical-align: top;\n",
       "    }\n",
       "\n",
       "    .dataframe thead th {\n",
       "        text-align: right;\n",
       "    }\n",
       "</style>\n",
       "<table border=\"1\" class=\"dataframe\">\n",
       "  <thead>\n",
       "    <tr style=\"text-align: right;\">\n",
       "      <th></th>\n",
       "      <th>atletas.nome</th>\n",
       "      <th>atletas.clube.id.full.name</th>\n",
       "    </tr>\n",
       "  </thead>\n",
       "  <tbody>\n",
       "    <tr>\n",
       "      <th>541</th>\n",
       "      <td>Renzo Saravia</td>\n",
       "      <td>Internacional</td>\n",
       "    </tr>\n",
       "    <tr>\n",
       "      <th>593</th>\n",
       "      <td>Giorgian Daniel de Arrascaeta Benedetti</td>\n",
       "      <td>Flamengo</td>\n",
       "    </tr>\n",
       "    <tr>\n",
       "      <th>614</th>\n",
       "      <td>José Paolo Guerrero Gonzales</td>\n",
       "      <td>Internacional</td>\n",
       "    </tr>\n",
       "    <tr>\n",
       "      <th>631</th>\n",
       "      <td>Mário Sérgio Santos Costa</td>\n",
       "      <td>Santos</td>\n",
       "    </tr>\n",
       "  </tbody>\n",
       "</table>\n",
       "</div>"
      ],
      "text/plain": [
       "                                atletas.nome atletas.clube.id.full.name\n",
       "541                            Renzo Saravia              Internacional\n",
       "593  Giorgian Daniel de Arrascaeta Benedetti                   Flamengo\n",
       "614             José Paolo Guerrero Gonzales              Internacional\n",
       "631                Mário Sérgio Santos Costa                     Santos"
      ]
     },
     "execution_count": 48,
     "metadata": {},
     "output_type": "execute_result"
    }
   ],
   "source": [
    "#MELHOR FILTRO\n",
    "\n",
    "filtro = df['atletas.preco_num'] > 20\n",
    "jogadores_caros = df[filtro]\n",
    "jogadores_caros[['atletas.nome', 'atletas.clube.id.full.name']]"
   ]
  },
  {
   "cell_type": "raw",
   "id": "82de2165",
   "metadata": {},
   "source": [
    "3. Exiba a média dos preços dos jogadores"
   ]
  },
  {
   "cell_type": "code",
   "execution_count": 51,
   "id": "67d16afd",
   "metadata": {},
   "outputs": [
    {
     "name": "stdout",
     "output_type": "stream",
     "text": [
      "4.81\n"
     ]
    }
   ],
   "source": [
    "media = df['atletas.preco_num'].mean()\n",
    "print(f'{media:.2f}')"
   ]
  },
  {
   "cell_type": "code",
   "execution_count": null,
   "id": "282330c2",
   "metadata": {},
   "outputs": [],
   "source": []
  },
  {
   "cell_type": "raw",
   "id": "de94689c",
   "metadata": {},
   "source": [
    "4. Exiba o nome dos jogadores que mitou/mitaram na rodada(Jogadores com maior quantidade de pontos)"
   ]
  },
  {
   "cell_type": "code",
   "execution_count": 65,
   "id": "7568d260",
   "metadata": {},
   "outputs": [
    {
     "data": {
      "text/html": [
       "<div>\n",
       "<style scoped>\n",
       "    .dataframe tbody tr th:only-of-type {\n",
       "        vertical-align: middle;\n",
       "    }\n",
       "\n",
       "    .dataframe tbody tr th {\n",
       "        vertical-align: top;\n",
       "    }\n",
       "\n",
       "    .dataframe thead th {\n",
       "        text-align: right;\n",
       "    }\n",
       "</style>\n",
       "<table border=\"1\" class=\"dataframe\">\n",
       "  <thead>\n",
       "    <tr style=\"text-align: right;\">\n",
       "      <th></th>\n",
       "      <th>atletas.nome</th>\n",
       "      <th>atletas.clube.id.full.name</th>\n",
       "    </tr>\n",
       "  </thead>\n",
       "  <tbody>\n",
       "    <tr>\n",
       "      <th>631</th>\n",
       "      <td>Mário Sérgio Santos Costa</td>\n",
       "      <td>Santos</td>\n",
       "    </tr>\n",
       "  </tbody>\n",
       "</table>\n",
       "</div>"
      ],
      "text/plain": [
       "                  atletas.nome atletas.clube.id.full.name\n",
       "631  Mário Sérgio Santos Costa                     Santos"
      ]
     },
     "execution_count": 65,
     "metadata": {},
     "output_type": "execute_result"
    }
   ],
   "source": [
    "valor_maximo = df['atletas.pontos_num'].max()\n",
    "filtro = df['atletas.pontos_num'] >= valor_maximo\n",
    "mitaram = df[filtro]\n",
    "mitaram[['atletas.nome', 'atletas.clube.id.full.name']]\n"
   ]
  },
  {
   "cell_type": "raw",
   "id": "aeb8cb14",
   "metadata": {},
   "source": [
    "Ou"
   ]
  },
  {
   "cell_type": "code",
   "execution_count": 67,
   "id": "ec0b2263",
   "metadata": {},
   "outputs": [
    {
     "data": {
      "text/html": [
       "<div>\n",
       "<style scoped>\n",
       "    .dataframe tbody tr th:only-of-type {\n",
       "        vertical-align: middle;\n",
       "    }\n",
       "\n",
       "    .dataframe tbody tr th {\n",
       "        vertical-align: top;\n",
       "    }\n",
       "\n",
       "    .dataframe thead th {\n",
       "        text-align: right;\n",
       "    }\n",
       "</style>\n",
       "<table border=\"1\" class=\"dataframe\">\n",
       "  <thead>\n",
       "    <tr style=\"text-align: right;\">\n",
       "      <th></th>\n",
       "      <th>atletas.nome</th>\n",
       "      <th>atletas.pontos_num</th>\n",
       "      <th>atletas.clube.id.full.name</th>\n",
       "    </tr>\n",
       "  </thead>\n",
       "  <tbody>\n",
       "    <tr>\n",
       "      <th>631</th>\n",
       "      <td>Mário Sérgio Santos Costa</td>\n",
       "      <td>23.0</td>\n",
       "      <td>Santos</td>\n",
       "    </tr>\n",
       "  </tbody>\n",
       "</table>\n",
       "</div>"
      ],
      "text/plain": [
       "                  atletas.nome  atletas.pontos_num atletas.clube.id.full.name\n",
       "631  Mário Sérgio Santos Costa                23.0                     Santos"
      ]
     },
     "execution_count": 67,
     "metadata": {},
     "output_type": "execute_result"
    }
   ],
   "source": [
    "best = df[['atletas.nome', 'atletas.pontos_num', 'atletas.clube.id.full.name']]\n",
    "best[best['atletas.pontos_num'] > 20]\n"
   ]
  },
  {
   "cell_type": "code",
   "execution_count": null,
   "id": "9ce21a02",
   "metadata": {},
   "outputs": [],
   "source": [
    "#Buscando a quantidade de instâncias ou linhas"
   ]
  },
  {
   "cell_type": "code",
   "execution_count": 77,
   "id": "eab2222d",
   "metadata": {},
   "outputs": [
    {
     "data": {
      "text/plain": [
       "230"
      ]
     },
     "execution_count": 77,
     "metadata": {},
     "output_type": "execute_result"
    }
   ],
   "source": [
    "filtro = df['atletas.status_id'] == 'Provável'\n",
    "escalaveis = df[filtro]\n",
    "escalaveis['atletas.nome'].count()"
   ]
  },
  {
   "cell_type": "code",
   "execution_count": 78,
   "id": "a120e6c2",
   "metadata": {},
   "outputs": [],
   "source": [
    "#Ou"
   ]
  },
  {
   "cell_type": "code",
   "execution_count": 80,
   "id": "384ecaa4",
   "metadata": {},
   "outputs": [
    {
     "data": {
      "text/plain": [
       "230"
      ]
     },
     "execution_count": 80,
     "metadata": {},
     "output_type": "execute_result"
    }
   ],
   "source": [
    "filtro = df['atletas.status_id'] == 'Provável'\n",
    "df[filtro]['atletas.nome'].count()"
   ]
  },
  {
   "cell_type": "code",
   "execution_count": null,
   "id": "9b4b64be",
   "metadata": {},
   "outputs": [],
   "source": []
  }
 ],
 "metadata": {
  "kernelspec": {
   "display_name": "Python 3 (ipykernel)",
   "language": "python",
   "name": "python3"
  },
  "language_info": {
   "codemirror_mode": {
    "name": "ipython",
    "version": 3
   },
   "file_extension": ".py",
   "mimetype": "text/x-python",
   "name": "python",
   "nbconvert_exporter": "python",
   "pygments_lexer": "ipython3",
   "version": "3.9.7"
  }
 },
 "nbformat": 4,
 "nbformat_minor": 5
}
