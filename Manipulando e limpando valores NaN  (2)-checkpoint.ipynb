{
 "cells": [
  {
   "cell_type": "code",
   "execution_count": 1,
   "id": "85f59481",
   "metadata": {},
   "outputs": [
    {
     "data": {
      "text/html": [
       "<div>\n",
       "<style scoped>\n",
       "    .dataframe tbody tr th:only-of-type {\n",
       "        vertical-align: middle;\n",
       "    }\n",
       "\n",
       "    .dataframe tbody tr th {\n",
       "        vertical-align: top;\n",
       "    }\n",
       "\n",
       "    .dataframe thead th {\n",
       "        text-align: right;\n",
       "    }\n",
       "</style>\n",
       "<table border=\"1\" class=\"dataframe\">\n",
       "  <thead>\n",
       "    <tr style=\"text-align: right;\">\n",
       "      <th></th>\n",
       "      <th>col 1</th>\n",
       "      <th>col 2</th>\n",
       "      <th>col 3</th>\n",
       "      <th>col 4</th>\n",
       "      <th>col 5</th>\n",
       "    </tr>\n",
       "  </thead>\n",
       "  <tbody>\n",
       "    <tr>\n",
       "      <th>0</th>\n",
       "      <td>0.644144</td>\n",
       "      <td>0.380748</td>\n",
       "      <td>0.663048</td>\n",
       "      <td>0.163651</td>\n",
       "      <td>0.962608</td>\n",
       "    </tr>\n",
       "    <tr>\n",
       "      <th>1</th>\n",
       "      <td>0.346662</td>\n",
       "      <td>0.991751</td>\n",
       "      <td>0.235058</td>\n",
       "      <td>0.585694</td>\n",
       "      <td>0.406690</td>\n",
       "    </tr>\n",
       "    <tr>\n",
       "      <th>2</th>\n",
       "      <td>0.136234</td>\n",
       "      <td>0.544136</td>\n",
       "      <td>0.518176</td>\n",
       "      <td>0.766855</td>\n",
       "      <td>0.933850</td>\n",
       "    </tr>\n",
       "    <tr>\n",
       "      <th>3</th>\n",
       "      <td>0.089703</td>\n",
       "      <td>0.195771</td>\n",
       "      <td>0.994194</td>\n",
       "      <td>0.235180</td>\n",
       "      <td>0.238986</td>\n",
       "    </tr>\n",
       "    <tr>\n",
       "      <th>4</th>\n",
       "      <td>0.629100</td>\n",
       "      <td>0.734953</td>\n",
       "      <td>0.688344</td>\n",
       "      <td>0.031131</td>\n",
       "      <td>0.902514</td>\n",
       "    </tr>\n",
       "  </tbody>\n",
       "</table>\n",
       "</div>"
      ],
      "text/plain": [
       "      col 1     col 2     col 3     col 4     col 5\n",
       "0  0.644144  0.380748  0.663048  0.163651  0.962608\n",
       "1  0.346662  0.991751  0.235058  0.585694  0.406690\n",
       "2  0.136234  0.544136  0.518176  0.766855  0.933850\n",
       "3  0.089703  0.195771  0.994194  0.235180  0.238986\n",
       "4  0.629100  0.734953  0.688344  0.031131  0.902514"
      ]
     },
     "execution_count": 1,
     "metadata": {},
     "output_type": "execute_result"
    }
   ],
   "source": [
    "import pandas as pd\n",
    "import numpy as np\n",
    "\n",
    "np.random.seed(30)\n",
    "numerosAleatorios = np.random.rand(25).reshape((5,5))\n",
    "\n",
    "\n",
    "#linhas = ['linha 1', 'linha 2', 'linha 3', 'linha 4', 'linha 5'] Se eu não indexar linhas, ele colocará sozinho\n",
    "colunas = ['col 1', 'col 2', 'col 3', 'col 4', 'col 5']\n",
    "\n",
    "df = pd.DataFrame(numerosAleatorios, columns=colunas) #Eu poderia colocar o index=linhas.\n",
    "\n",
    "df\n"
   ]
  },
  {
   "cell_type": "markdown",
   "id": "157004ba",
   "metadata": {},
   "source": [
    "É importante colocar filtros para seleção de dados"
   ]
  },
  {
   "cell_type": "code",
   "execution_count": 2,
   "id": "018a5f68",
   "metadata": {},
   "outputs": [
    {
     "data": {
      "text/html": [
       "<div>\n",
       "<style scoped>\n",
       "    .dataframe tbody tr th:only-of-type {\n",
       "        vertical-align: middle;\n",
       "    }\n",
       "\n",
       "    .dataframe tbody tr th {\n",
       "        vertical-align: top;\n",
       "    }\n",
       "\n",
       "    .dataframe thead th {\n",
       "        text-align: right;\n",
       "    }\n",
       "</style>\n",
       "<table border=\"1\" class=\"dataframe\">\n",
       "  <thead>\n",
       "    <tr style=\"text-align: right;\">\n",
       "      <th></th>\n",
       "      <th>col 1</th>\n",
       "      <th>col 2</th>\n",
       "      <th>col 3</th>\n",
       "      <th>col 4</th>\n",
       "      <th>col 5</th>\n",
       "    </tr>\n",
       "  </thead>\n",
       "  <tbody>\n",
       "    <tr>\n",
       "      <th>0</th>\n",
       "      <td>False</td>\n",
       "      <td>False</td>\n",
       "      <td>False</td>\n",
       "      <td>True</td>\n",
       "      <td>False</td>\n",
       "    </tr>\n",
       "    <tr>\n",
       "      <th>1</th>\n",
       "      <td>False</td>\n",
       "      <td>False</td>\n",
       "      <td>True</td>\n",
       "      <td>False</td>\n",
       "      <td>False</td>\n",
       "    </tr>\n",
       "    <tr>\n",
       "      <th>2</th>\n",
       "      <td>True</td>\n",
       "      <td>False</td>\n",
       "      <td>False</td>\n",
       "      <td>False</td>\n",
       "      <td>False</td>\n",
       "    </tr>\n",
       "    <tr>\n",
       "      <th>3</th>\n",
       "      <td>True</td>\n",
       "      <td>True</td>\n",
       "      <td>False</td>\n",
       "      <td>True</td>\n",
       "      <td>True</td>\n",
       "    </tr>\n",
       "    <tr>\n",
       "      <th>4</th>\n",
       "      <td>False</td>\n",
       "      <td>False</td>\n",
       "      <td>False</td>\n",
       "      <td>True</td>\n",
       "      <td>False</td>\n",
       "    </tr>\n",
       "  </tbody>\n",
       "</table>\n",
       "</div>"
      ],
      "text/plain": [
       "   col 1  col 2  col 3  col 4  col 5\n",
       "0  False  False  False   True  False\n",
       "1  False  False   True  False  False\n",
       "2   True  False  False  False  False\n",
       "3   True   True  False   True   True\n",
       "4  False  False  False   True  False"
      ]
     },
     "execution_count": 2,
     "metadata": {},
     "output_type": "execute_result"
    }
   ],
   "source": [
    "df < .3"
   ]
  },
  {
   "cell_type": "code",
   "execution_count": 3,
   "id": "9a77641b",
   "metadata": {},
   "outputs": [
    {
     "data": {
      "text/plain": [
       "0    0.644144\n",
       "1    0.346662\n",
       "2    0.136234\n",
       "3    0.089703\n",
       "4    0.629100\n",
       "Name: col 1, dtype: float64"
      ]
     },
     "execution_count": 3,
     "metadata": {},
     "output_type": "execute_result"
    }
   ],
   "source": [
    "df['col 1'] # Pegando todas as linhas da coluna 1"
   ]
  },
  {
   "cell_type": "code",
   "execution_count": 4,
   "id": "d7f4deab",
   "metadata": {},
   "outputs": [
    {
     "data": {
      "text/plain": [
       "0.644143536068335"
      ]
     },
     "execution_count": 4,
     "metadata": {},
     "output_type": "execute_result"
    }
   ],
   "source": [
    "df['col 1'][0] #Puxando uma linha específica"
   ]
  },
  {
   "cell_type": "markdown",
   "id": "4882cb4d",
   "metadata": {},
   "source": [
    "# Aplicando um filtro"
   ]
  },
  {
   "cell_type": "code",
   "execution_count": 5,
   "id": "26aa87ef",
   "metadata": {},
   "outputs": [
    {
     "data": {
      "text/html": [
       "<div>\n",
       "<style scoped>\n",
       "    .dataframe tbody tr th:only-of-type {\n",
       "        vertical-align: middle;\n",
       "    }\n",
       "\n",
       "    .dataframe tbody tr th {\n",
       "        vertical-align: top;\n",
       "    }\n",
       "\n",
       "    .dataframe thead th {\n",
       "        text-align: right;\n",
       "    }\n",
       "</style>\n",
       "<table border=\"1\" class=\"dataframe\">\n",
       "  <thead>\n",
       "    <tr style=\"text-align: right;\">\n",
       "      <th></th>\n",
       "      <th>col 1</th>\n",
       "      <th>col 2</th>\n",
       "      <th>col 3</th>\n",
       "      <th>col 4</th>\n",
       "      <th>col 5</th>\n",
       "    </tr>\n",
       "  </thead>\n",
       "  <tbody>\n",
       "    <tr>\n",
       "      <th>0</th>\n",
       "      <td>NaN</td>\n",
       "      <td>NaN</td>\n",
       "      <td>NaN</td>\n",
       "      <td>0.163651</td>\n",
       "      <td>NaN</td>\n",
       "    </tr>\n",
       "    <tr>\n",
       "      <th>1</th>\n",
       "      <td>NaN</td>\n",
       "      <td>NaN</td>\n",
       "      <td>0.235058</td>\n",
       "      <td>NaN</td>\n",
       "      <td>NaN</td>\n",
       "    </tr>\n",
       "    <tr>\n",
       "      <th>2</th>\n",
       "      <td>0.136234</td>\n",
       "      <td>NaN</td>\n",
       "      <td>NaN</td>\n",
       "      <td>NaN</td>\n",
       "      <td>NaN</td>\n",
       "    </tr>\n",
       "    <tr>\n",
       "      <th>3</th>\n",
       "      <td>0.089703</td>\n",
       "      <td>0.195771</td>\n",
       "      <td>NaN</td>\n",
       "      <td>0.235180</td>\n",
       "      <td>0.238986</td>\n",
       "    </tr>\n",
       "    <tr>\n",
       "      <th>4</th>\n",
       "      <td>NaN</td>\n",
       "      <td>NaN</td>\n",
       "      <td>NaN</td>\n",
       "      <td>0.031131</td>\n",
       "      <td>NaN</td>\n",
       "    </tr>\n",
       "  </tbody>\n",
       "</table>\n",
       "</div>"
      ],
      "text/plain": [
       "      col 1     col 2     col 3     col 4     col 5\n",
       "0       NaN       NaN       NaN  0.163651       NaN\n",
       "1       NaN       NaN  0.235058       NaN       NaN\n",
       "2  0.136234       NaN       NaN       NaN       NaN\n",
       "3  0.089703  0.195771       NaN  0.235180  0.238986\n",
       "4       NaN       NaN       NaN  0.031131       NaN"
      ]
     },
     "execution_count": 5,
     "metadata": {},
     "output_type": "execute_result"
    }
   ],
   "source": [
    "filtro = df < .3 #Aqui é só para testes\n",
    "df[filtro]"
   ]
  },
  {
   "cell_type": "code",
   "execution_count": 6,
   "id": "c8e09bb7",
   "metadata": {},
   "outputs": [
    {
     "data": {
      "text/plain": [
       "0      a\n",
       "1      b\n",
       "2    NaN\n",
       "3      c\n",
       "4    NaN\n",
       "dtype: object"
      ]
     },
     "execution_count": 6,
     "metadata": {},
     "output_type": "execute_result"
    }
   ],
   "source": [
    "dadoNulo = np.nan #Colocando todos os dados NaN dentro dessa variável\n",
    "serie = pd.Series(['a', 'b', dadoNulo, 'c', dadoNulo])\n",
    "serie\n"
   ]
  },
  {
   "cell_type": "code",
   "execution_count": 111,
   "id": "2b3b66eb",
   "metadata": {},
   "outputs": [
    {
     "data": {
      "text/plain": [
       "<bound method Series.isnull of 0      a\n",
       "1      b\n",
       "2    NaN\n",
       "3      c\n",
       "4    NaN\n",
       "dtype: object>"
      ]
     },
     "execution_count": 111,
     "metadata": {},
     "output_type": "execute_result"
    }
   ],
   "source": [
    "serie.isnull #Verificação da existencia de valores nulos"
   ]
  },
  {
   "cell_type": "code",
   "execution_count": 112,
   "id": "9f05a7b9",
   "metadata": {},
   "outputs": [
    {
     "data": {
      "text/plain": [
       "0         a\n",
       "1         b\n",
       "2    Brasil\n",
       "3         c\n",
       "4    Brasil\n",
       "dtype: object"
      ]
     },
     "execution_count": 112,
     "metadata": {},
     "output_type": "execute_result"
    }
   ],
   "source": [
    "serie.fillna('Brasil')"
   ]
  },
  {
   "cell_type": "code",
   "execution_count": 113,
   "id": "00243756",
   "metadata": {},
   "outputs": [
    {
     "data": {
      "text/html": [
       "<div>\n",
       "<style scoped>\n",
       "    .dataframe tbody tr th:only-of-type {\n",
       "        vertical-align: middle;\n",
       "    }\n",
       "\n",
       "    .dataframe tbody tr th {\n",
       "        vertical-align: top;\n",
       "    }\n",
       "\n",
       "    .dataframe thead th {\n",
       "        text-align: right;\n",
       "    }\n",
       "</style>\n",
       "<table border=\"1\" class=\"dataframe\">\n",
       "  <thead>\n",
       "    <tr style=\"text-align: right;\">\n",
       "      <th></th>\n",
       "      <th>col 1</th>\n",
       "      <th>col 2</th>\n",
       "      <th>col 3</th>\n",
       "      <th>col 4</th>\n",
       "      <th>col 5</th>\n",
       "    </tr>\n",
       "  </thead>\n",
       "  <tbody>\n",
       "    <tr>\n",
       "      <th>0</th>\n",
       "      <td>NaN</td>\n",
       "      <td>NaN</td>\n",
       "      <td>NaN</td>\n",
       "      <td>NaN</td>\n",
       "      <td>NaN</td>\n",
       "    </tr>\n",
       "    <tr>\n",
       "      <th>1</th>\n",
       "      <td>0.346662</td>\n",
       "      <td>0.991751</td>\n",
       "      <td>0.235058</td>\n",
       "      <td>0.585694</td>\n",
       "      <td>0.406690</td>\n",
       "    </tr>\n",
       "    <tr>\n",
       "      <th>2</th>\n",
       "      <td>0.136234</td>\n",
       "      <td>0.544136</td>\n",
       "      <td>0.518176</td>\n",
       "      <td>0.766855</td>\n",
       "      <td>0.933850</td>\n",
       "    </tr>\n",
       "    <tr>\n",
       "      <th>3</th>\n",
       "      <td>0.089703</td>\n",
       "      <td>0.195771</td>\n",
       "      <td>0.994194</td>\n",
       "      <td>0.235180</td>\n",
       "      <td>0.238986</td>\n",
       "    </tr>\n",
       "    <tr>\n",
       "      <th>4</th>\n",
       "      <td>0.629100</td>\n",
       "      <td>0.734953</td>\n",
       "      <td>0.688344</td>\n",
       "      <td>0.031131</td>\n",
       "      <td>0.902514</td>\n",
       "    </tr>\n",
       "  </tbody>\n",
       "</table>\n",
       "</div>"
      ],
      "text/plain": [
       "      col 1     col 2     col 3     col 4     col 5\n",
       "0       NaN       NaN       NaN       NaN       NaN\n",
       "1  0.346662  0.991751  0.235058  0.585694  0.406690\n",
       "2  0.136234  0.544136  0.518176  0.766855  0.933850\n",
       "3  0.089703  0.195771  0.994194  0.235180  0.238986\n",
       "4  0.629100  0.734953  0.688344  0.031131  0.902514"
      ]
     },
     "execution_count": 113,
     "metadata": {},
     "output_type": "execute_result"
    }
   ],
   "source": [
    "#Alterando toda a linha como NaN\n",
    "df.loc[0] = dadoNulo\n",
    "df"
   ]
  },
  {
   "cell_type": "code",
   "execution_count": 114,
   "id": "0e89df5e",
   "metadata": {},
   "outputs": [
    {
     "data": {
      "text/html": [
       "<div>\n",
       "<style scoped>\n",
       "    .dataframe tbody tr th:only-of-type {\n",
       "        vertical-align: middle;\n",
       "    }\n",
       "\n",
       "    .dataframe tbody tr th {\n",
       "        vertical-align: top;\n",
       "    }\n",
       "\n",
       "    .dataframe thead th {\n",
       "        text-align: right;\n",
       "    }\n",
       "</style>\n",
       "<table border=\"1\" class=\"dataframe\">\n",
       "  <thead>\n",
       "    <tr style=\"text-align: right;\">\n",
       "      <th></th>\n",
       "      <th>col 1</th>\n",
       "      <th>col 2</th>\n",
       "      <th>col 3</th>\n",
       "      <th>col 4</th>\n",
       "      <th>col 5</th>\n",
       "    </tr>\n",
       "  </thead>\n",
       "  <tbody>\n",
       "    <tr>\n",
       "      <th>0</th>\n",
       "      <td>0.900000</td>\n",
       "      <td>0.900000</td>\n",
       "      <td>0.900000</td>\n",
       "      <td>0.900000</td>\n",
       "      <td>0.900000</td>\n",
       "    </tr>\n",
       "    <tr>\n",
       "      <th>1</th>\n",
       "      <td>0.346662</td>\n",
       "      <td>0.991751</td>\n",
       "      <td>0.235058</td>\n",
       "      <td>0.585694</td>\n",
       "      <td>0.406690</td>\n",
       "    </tr>\n",
       "    <tr>\n",
       "      <th>2</th>\n",
       "      <td>0.136234</td>\n",
       "      <td>0.544136</td>\n",
       "      <td>0.518176</td>\n",
       "      <td>0.766855</td>\n",
       "      <td>0.933850</td>\n",
       "    </tr>\n",
       "    <tr>\n",
       "      <th>3</th>\n",
       "      <td>0.089703</td>\n",
       "      <td>0.195771</td>\n",
       "      <td>0.994194</td>\n",
       "      <td>0.235180</td>\n",
       "      <td>0.238986</td>\n",
       "    </tr>\n",
       "    <tr>\n",
       "      <th>4</th>\n",
       "      <td>0.629100</td>\n",
       "      <td>0.734953</td>\n",
       "      <td>0.688344</td>\n",
       "      <td>0.031131</td>\n",
       "      <td>0.902514</td>\n",
       "    </tr>\n",
       "  </tbody>\n",
       "</table>\n",
       "</div>"
      ],
      "text/plain": [
       "      col 1     col 2     col 3     col 4     col 5\n",
       "0  0.900000  0.900000  0.900000  0.900000  0.900000\n",
       "1  0.346662  0.991751  0.235058  0.585694  0.406690\n",
       "2  0.136234  0.544136  0.518176  0.766855  0.933850\n",
       "3  0.089703  0.195771  0.994194  0.235180  0.238986\n",
       "4  0.629100  0.734953  0.688344  0.031131  0.902514"
      ]
     },
     "execution_count": 114,
     "metadata": {},
     "output_type": "execute_result"
    }
   ],
   "source": [
    "tabelaSemNaN = df.fillna(0.9)\n",
    "tabelaSemNaN\n"
   ]
  },
  {
   "cell_type": "code",
   "execution_count": 115,
   "id": "72477f9b",
   "metadata": {},
   "outputs": [
    {
     "data": {
      "text/plain": [
       "2"
      ]
     },
     "execution_count": 115,
     "metadata": {},
     "output_type": "execute_result"
    }
   ],
   "source": [
    "#Somando quantos dados nulos há no data frame\n",
    "serie.isnull().sum()"
   ]
  },
  {
   "cell_type": "code",
   "execution_count": 116,
   "id": "5da36b46",
   "metadata": {},
   "outputs": [
    {
     "data": {
      "text/html": [
       "<div>\n",
       "<style scoped>\n",
       "    .dataframe tbody tr th:only-of-type {\n",
       "        vertical-align: middle;\n",
       "    }\n",
       "\n",
       "    .dataframe tbody tr th {\n",
       "        vertical-align: top;\n",
       "    }\n",
       "\n",
       "    .dataframe thead th {\n",
       "        text-align: right;\n",
       "    }\n",
       "</style>\n",
       "<table border=\"1\" class=\"dataframe\">\n",
       "  <thead>\n",
       "    <tr style=\"text-align: right;\">\n",
       "      <th></th>\n",
       "    </tr>\n",
       "  </thead>\n",
       "  <tbody>\n",
       "    <tr>\n",
       "      <th>0</th>\n",
       "    </tr>\n",
       "    <tr>\n",
       "      <th>1</th>\n",
       "    </tr>\n",
       "    <tr>\n",
       "      <th>2</th>\n",
       "    </tr>\n",
       "    <tr>\n",
       "      <th>3</th>\n",
       "    </tr>\n",
       "    <tr>\n",
       "      <th>4</th>\n",
       "    </tr>\n",
       "  </tbody>\n",
       "</table>\n",
       "</div>"
      ],
      "text/plain": [
       "Empty DataFrame\n",
       "Columns: []\n",
       "Index: [0, 1, 2, 3, 4]"
      ]
     },
     "execution_count": 116,
     "metadata": {},
     "output_type": "execute_result"
    }
   ],
   "source": [
    "df.dropna(axis=1) #ELe eliminou tudo pq todas as linhas possuem NaN pelo menos uma vez"
   ]
  },
  {
   "cell_type": "markdown",
   "id": "78b35f3e",
   "metadata": {},
   "source": [
    "# EXERCÍCIOS"
   ]
  },
  {
   "cell_type": "markdown",
   "id": "9c5c5a42",
   "metadata": {},
   "source": [
    "1. Crie um DataFrame baseado na tabela abaixo;\n",
    "2. Substitua o valor NaN contido na coluna Java pela médoa das notas de Java. Faça o mesmo na coluna Banco de Dados;\n",
    "3. Imprimir o boletim dos alunos com nota em Python acima da média"
   ]
  },
  {
   "cell_type": "code",
   "execution_count": 5,
   "id": "20199a4b",
   "metadata": {},
   "outputs": [
    {
     "data": {
      "text/html": [
       "<div>\n",
       "<style scoped>\n",
       "    .dataframe tbody tr th:only-of-type {\n",
       "        vertical-align: middle;\n",
       "    }\n",
       "\n",
       "    .dataframe tbody tr th {\n",
       "        vertical-align: top;\n",
       "    }\n",
       "\n",
       "    .dataframe thead th {\n",
       "        text-align: right;\n",
       "    }\n",
       "</style>\n",
       "<table border=\"1\" class=\"dataframe\">\n",
       "  <thead>\n",
       "    <tr style=\"text-align: right;\">\n",
       "      <th></th>\n",
       "      <th>Python</th>\n",
       "      <th>Java</th>\n",
       "      <th>Banco de Dados</th>\n",
       "    </tr>\n",
       "  </thead>\n",
       "  <tbody>\n",
       "    <tr>\n",
       "      <th>Thyago</th>\n",
       "      <td>8.0</td>\n",
       "      <td>7.0</td>\n",
       "      <td>NaN</td>\n",
       "    </tr>\n",
       "    <tr>\n",
       "      <th>Theo</th>\n",
       "      <td>9.0</td>\n",
       "      <td>7.5</td>\n",
       "      <td>10.0</td>\n",
       "    </tr>\n",
       "    <tr>\n",
       "      <th>Sophia</th>\n",
       "      <td>7.0</td>\n",
       "      <td>NaN</td>\n",
       "      <td>8.0</td>\n",
       "    </tr>\n",
       "  </tbody>\n",
       "</table>\n",
       "</div>"
      ],
      "text/plain": [
       "        Python  Java  Banco de Dados\n",
       "Thyago     8.0   7.0             NaN\n",
       "Theo       9.0   7.5            10.0\n",
       "Sophia     7.0   NaN             8.0"
      ]
     },
     "execution_count": 5,
     "metadata": {},
     "output_type": "execute_result"
    }
   ],
   "source": [
    "alunos = ['Thyago', 'Theo', 'Sophia']\n",
    "disciplinas = ['Python', 'Java', 'Banco de Dados']\n",
    "\n",
    "\n",
    "branco = np.nan #Eu poderia colocar o np.nan dentro da linha que eu quero em branco\n",
    "\n",
    "#Array pode ser unidimensional ou bidimensional. Ele pode ser uma matriz\n",
    "notas = np.array([8.0, 7.0, branco, 9.0, 7.5, 10.0, 7.0, branco, 8.0])#Transformando em uma lista numpy. \n",
    "notas = notas.reshape(3,3)  #O reshape é uma função do array que pertence ao Numpy\n",
    "\n",
    "tabela = pd.DataFrame(notas, index=alunos, columns=disciplinas)\n",
    "tabela"
   ]
  },
  {
   "cell_type": "code",
   "execution_count": 6,
   "id": "2797dcb5",
   "metadata": {},
   "outputs": [
    {
     "data": {
      "text/plain": [
       "Thyago    7.0\n",
       "Theo      7.5\n",
       "Sophia    NaN\n",
       "Name: Java, dtype: float64"
      ]
     },
     "execution_count": 6,
     "metadata": {},
     "output_type": "execute_result"
    }
   ],
   "source": [
    "#Manipulo só a coluna para tirar a média e substituir os valores nulos. #Criando uma série com a coluna Java\n",
    "\n",
    "java = tabela['Java'] #Não se usa loc para colunas\n",
    "java"
   ]
  },
  {
   "cell_type": "code",
   "execution_count": 7,
   "id": "d4143770",
   "metadata": {},
   "outputs": [
    {
     "data": {
      "text/plain": [
       "7.0"
      ]
     },
     "execution_count": 7,
     "metadata": {},
     "output_type": "execute_result"
    }
   ],
   "source": [
    "java = tabela['Java'] #Escolhendo a coluna\n",
    "java['Thyago']        #Escolhendo a linha"
   ]
  },
  {
   "cell_type": "code",
   "execution_count": 8,
   "id": "cc319250",
   "metadata": {},
   "outputs": [
    {
     "data": {
      "text/plain": [
       "Thyago    7.00\n",
       "Theo      7.50\n",
       "Sophia    7.25\n",
       "Name: Java, dtype: float64"
      ]
     },
     "execution_count": 8,
     "metadata": {},
     "output_type": "execute_result"
    }
   ],
   "source": [
    "java = tabela['Java'] \n",
    "java['Sophia'] = java.mean() #Tirando a média\n",
    "java\n",
    "\n"
   ]
  },
  {
   "cell_type": "code",
   "execution_count": 9,
   "id": "ef1aeb0d",
   "metadata": {},
   "outputs": [
    {
     "name": "stdout",
     "output_type": "stream",
     "text": [
      "        Python  Java  Banco de Dados\n",
      "Thyago     8.0  7.00             NaN\n",
      "Theo       9.0  7.50            10.0\n",
      "Sophia     7.0  7.25             8.0\n"
     ]
    }
   ],
   "source": [
    "#Ou\n",
    "\n",
    "print(tabela)"
   ]
  },
  {
   "cell_type": "code",
   "execution_count": 10,
   "id": "0d2829a8",
   "metadata": {},
   "outputs": [
    {
     "data": {
      "text/plain": [
       "Thyago     9.0\n",
       "Theo      10.0\n",
       "Sophia     8.0\n",
       "Name: Banco de Dados, dtype: float64"
      ]
     },
     "execution_count": 10,
     "metadata": {},
     "output_type": "execute_result"
    }
   ],
   "source": [
    "bancoDeDados = tabela['Banco de Dados']\n",
    "bancoDeDados['Thyago'] = bancoDeDados.mean()\n",
    "bancoDeDados\n"
   ]
  },
  {
   "cell_type": "code",
   "execution_count": 11,
   "id": "8deb0850",
   "metadata": {},
   "outputs": [
    {
     "data": {
      "text/html": [
       "<div>\n",
       "<style scoped>\n",
       "    .dataframe tbody tr th:only-of-type {\n",
       "        vertical-align: middle;\n",
       "    }\n",
       "\n",
       "    .dataframe tbody tr th {\n",
       "        vertical-align: top;\n",
       "    }\n",
       "\n",
       "    .dataframe thead th {\n",
       "        text-align: right;\n",
       "    }\n",
       "</style>\n",
       "<table border=\"1\" class=\"dataframe\">\n",
       "  <thead>\n",
       "    <tr style=\"text-align: right;\">\n",
       "      <th></th>\n",
       "      <th>Python</th>\n",
       "      <th>Java</th>\n",
       "      <th>Banco de Dados</th>\n",
       "    </tr>\n",
       "  </thead>\n",
       "  <tbody>\n",
       "    <tr>\n",
       "      <th>Thyago</th>\n",
       "      <td>8.0</td>\n",
       "      <td>7.00</td>\n",
       "      <td>9.0</td>\n",
       "    </tr>\n",
       "    <tr>\n",
       "      <th>Theo</th>\n",
       "      <td>9.0</td>\n",
       "      <td>7.50</td>\n",
       "      <td>10.0</td>\n",
       "    </tr>\n",
       "    <tr>\n",
       "      <th>Sophia</th>\n",
       "      <td>7.0</td>\n",
       "      <td>7.25</td>\n",
       "      <td>8.0</td>\n",
       "    </tr>\n",
       "  </tbody>\n",
       "</table>\n",
       "</div>"
      ],
      "text/plain": [
       "        Python  Java  Banco de Dados\n",
       "Thyago     8.0  7.00             9.0\n",
       "Theo       9.0  7.50            10.0\n",
       "Sophia     7.0  7.25             8.0"
      ]
     },
     "execution_count": 11,
     "metadata": {},
     "output_type": "execute_result"
    }
   ],
   "source": [
    "tabela"
   ]
  },
  {
   "cell_type": "code",
   "execution_count": 12,
   "id": "19ffde7a",
   "metadata": {},
   "outputs": [
    {
     "data": {
      "text/html": [
       "<div>\n",
       "<style scoped>\n",
       "    .dataframe tbody tr th:only-of-type {\n",
       "        vertical-align: middle;\n",
       "    }\n",
       "\n",
       "    .dataframe tbody tr th {\n",
       "        vertical-align: top;\n",
       "    }\n",
       "\n",
       "    .dataframe thead th {\n",
       "        text-align: right;\n",
       "    }\n",
       "</style>\n",
       "<table border=\"1\" class=\"dataframe\">\n",
       "  <thead>\n",
       "    <tr style=\"text-align: right;\">\n",
       "      <th></th>\n",
       "      <th>Python</th>\n",
       "      <th>Java</th>\n",
       "      <th>Banco de Dados</th>\n",
       "    </tr>\n",
       "  </thead>\n",
       "  <tbody>\n",
       "    <tr>\n",
       "      <th>Thyago</th>\n",
       "      <td>8.0</td>\n",
       "      <td>7.00</td>\n",
       "      <td>9.0</td>\n",
       "    </tr>\n",
       "    <tr>\n",
       "      <th>Theo</th>\n",
       "      <td>9.0</td>\n",
       "      <td>7.50</td>\n",
       "      <td>10.0</td>\n",
       "    </tr>\n",
       "    <tr>\n",
       "      <th>Sophia</th>\n",
       "      <td>7.0</td>\n",
       "      <td>7.25</td>\n",
       "      <td>8.0</td>\n",
       "    </tr>\n",
       "  </tbody>\n",
       "</table>\n",
       "</div>"
      ],
      "text/plain": [
       "        Python  Java  Banco de Dados\n",
       "Thyago     8.0  7.00             9.0\n",
       "Theo       9.0  7.50            10.0\n",
       "Sophia     7.0  7.25             8.0"
      ]
     },
     "execution_count": 12,
     "metadata": {},
     "output_type": "execute_result"
    }
   ],
   "source": [
    "tabela"
   ]
  },
  {
   "cell_type": "markdown",
   "id": "f63620a7",
   "metadata": {},
   "source": [
    "Resolvendo o segundo exercício"
   ]
  },
  {
   "cell_type": "code",
   "execution_count": 23,
   "id": "dee819bf",
   "metadata": {},
   "outputs": [
    {
     "data": {
      "text/plain": [
       "Thyago     True\n",
       "Theo       True\n",
       "Sophia    False\n",
       "Name: Python, dtype: bool"
      ]
     },
     "execution_count": 23,
     "metadata": {},
     "output_type": "execute_result"
    }
   ],
   "source": [
    "python = tabela['Python']\n",
    "filtro = python > 7\n",
    "filtro"
   ]
  },
  {
   "cell_type": "code",
   "execution_count": 16,
   "id": "9b4de6c5",
   "metadata": {},
   "outputs": [
    {
     "name": "stdout",
     "output_type": "stream",
     "text": [
      "        Python  Java  Banco de Dados\n",
      "Thyago     8.0   7.0             9.0\n",
      "Theo       9.0   7.5            10.0\n"
     ]
    }
   ],
   "source": [
    "print(tabela[filtro]) #Para imprimir os dados sem ser Bool"
   ]
  },
  {
   "cell_type": "code",
   "execution_count": 18,
   "id": "03bf3b12",
   "metadata": {},
   "outputs": [
    {
     "data": {
      "text/html": [
       "<div>\n",
       "<style scoped>\n",
       "    .dataframe tbody tr th:only-of-type {\n",
       "        vertical-align: middle;\n",
       "    }\n",
       "\n",
       "    .dataframe tbody tr th {\n",
       "        vertical-align: top;\n",
       "    }\n",
       "\n",
       "    .dataframe thead th {\n",
       "        text-align: right;\n",
       "    }\n",
       "</style>\n",
       "<table border=\"1\" class=\"dataframe\">\n",
       "  <thead>\n",
       "    <tr style=\"text-align: right;\">\n",
       "      <th></th>\n",
       "      <th>Python</th>\n",
       "      <th>Java</th>\n",
       "      <th>Banco de Dados</th>\n",
       "    </tr>\n",
       "  </thead>\n",
       "  <tbody>\n",
       "    <tr>\n",
       "      <th>Thyago</th>\n",
       "      <td>8.0</td>\n",
       "      <td>7.00</td>\n",
       "      <td>9.0</td>\n",
       "    </tr>\n",
       "    <tr>\n",
       "      <th>Theo</th>\n",
       "      <td>9.0</td>\n",
       "      <td>7.50</td>\n",
       "      <td>10.0</td>\n",
       "    </tr>\n",
       "    <tr>\n",
       "      <th>Sophia</th>\n",
       "      <td>7.0</td>\n",
       "      <td>7.25</td>\n",
       "      <td>8.0</td>\n",
       "    </tr>\n",
       "  </tbody>\n",
       "</table>\n",
       "</div>"
      ],
      "text/plain": [
       "        Python  Java  Banco de Dados\n",
       "Thyago     8.0  7.00             9.0\n",
       "Theo       9.0  7.50            10.0\n",
       "Sophia     7.0  7.25             8.0"
      ]
     },
     "execution_count": 18,
     "metadata": {},
     "output_type": "execute_result"
    }
   ],
   "source": [
    "java = java.fillna(java.mean())\n",
    "java\n",
    "\n",
    "#Pegando essa série e encaixando novamente no data frame\n",
    "tabela['Java'] = java\n",
    "tabela"
   ]
  },
  {
   "cell_type": "code",
   "execution_count": 20,
   "id": "7b65db97",
   "metadata": {},
   "outputs": [
    {
     "data": {
      "text/plain": [
       "Thyago     9.0\n",
       "Theo      10.0\n",
       "Sophia     8.0\n",
       "Name: Banco de Dados, dtype: float64"
      ]
     },
     "execution_count": 20,
     "metadata": {},
     "output_type": "execute_result"
    }
   ],
   "source": [
    "#Pedaço do código de outro arquivo\n",
    "\n",
    "banco = tabela['Banco de Dados']\n",
    "banco = banco.fillna(banco.mean())\n",
    "banco"
   ]
  },
  {
   "cell_type": "code",
   "execution_count": null,
   "id": "ecdfac2c",
   "metadata": {},
   "outputs": [],
   "source": []
  }
 ],
 "metadata": {
  "kernelspec": {
   "display_name": "Python 3 (ipykernel)",
   "language": "python",
   "name": "python3"
  },
  "language_info": {
   "codemirror_mode": {
    "name": "ipython",
    "version": 3
   },
   "file_extension": ".py",
   "mimetype": "text/x-python",
   "name": "python",
   "nbconvert_exporter": "python",
   "pygments_lexer": "ipython3",
   "version": "3.9.12"
  }
 },
 "nbformat": 4,
 "nbformat_minor": 5
}
