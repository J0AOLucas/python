{
 "cells": [
  {
   "cell_type": "code",
   "execution_count": 176,
   "id": "de46c3c9",
   "metadata": {},
   "outputs": [],
   "source": [
    "import pandas as pd\n",
    "import numpy as np"
   ]
  },
  {
   "cell_type": "markdown",
   "id": "6bb4f6e7",
   "metadata": {},
   "source": [
    "# Crie um DataFrame a partir da tabela acima;"
   ]
  },
  {
   "cell_type": "code",
   "execution_count": 72,
   "id": "9e965111",
   "metadata": {},
   "outputs": [
    {
     "data": {
      "text/html": [
       "<div>\n",
       "<style scoped>\n",
       "    .dataframe tbody tr th:only-of-type {\n",
       "        vertical-align: middle;\n",
       "    }\n",
       "\n",
       "    .dataframe tbody tr th {\n",
       "        vertical-align: top;\n",
       "    }\n",
       "\n",
       "    .dataframe thead th {\n",
       "        text-align: right;\n",
       "    }\n",
       "</style>\n",
       "<table border=\"1\" class=\"dataframe\">\n",
       "  <thead>\n",
       "    <tr style=\"text-align: right;\">\n",
       "      <th></th>\n",
       "      <th>Posição</th>\n",
       "      <th>Camisa</th>\n",
       "      <th>Gols</th>\n",
       "      <th>Assistências</th>\n",
       "    </tr>\n",
       "  </thead>\n",
       "  <tbody>\n",
       "    <tr>\n",
       "      <th>Fumagalli</th>\n",
       "      <td>M</td>\n",
       "      <td>NaN</td>\n",
       "      <td>20</td>\n",
       "      <td>15</td>\n",
       "    </tr>\n",
       "    <tr>\n",
       "      <th>Carlinhos Bala</th>\n",
       "      <td>A</td>\n",
       "      <td>11</td>\n",
       "      <td>15</td>\n",
       "      <td>5</td>\n",
       "    </tr>\n",
       "    <tr>\n",
       "      <th>Leonardo</th>\n",
       "      <td>A</td>\n",
       "      <td>NaN</td>\n",
       "      <td>40</td>\n",
       "      <td>30</td>\n",
       "    </tr>\n",
       "    <tr>\n",
       "      <th>Neto Baiano</th>\n",
       "      <td>A</td>\n",
       "      <td>9</td>\n",
       "      <td>10</td>\n",
       "      <td>3</td>\n",
       "    </tr>\n",
       "    <tr>\n",
       "      <th>Diego Souza</th>\n",
       "      <td>NaN</td>\n",
       "      <td>10</td>\n",
       "      <td>35</td>\n",
       "      <td>25</td>\n",
       "    </tr>\n",
       "  </tbody>\n",
       "</table>\n",
       "</div>"
      ],
      "text/plain": [
       "               Posição Camisa Gols Assistências\n",
       "Fumagalli            M    NaN   20           15\n",
       "Carlinhos Bala       A     11   15            5\n",
       "Leonardo             A    NaN   40           30\n",
       "Neto Baiano          A      9   10            3\n",
       "Diego Souza        NaN     10   35           25"
      ]
     },
     "execution_count": 72,
     "metadata": {},
     "output_type": "execute_result"
    }
   ],
   "source": [
    "linhas = ['Fumagalli', 'Carlinhos Bala', 'Leonardo', 'Neto Baiano', 'Diego Souza']\n",
    "colunas = ['Posição', 'Camisa', 'Gols', 'Assistências']\n",
    "branco = np.NaN\n",
    "\n",
    "\n",
    "tabela = pd.Series(['M', branco, 20, 15, 'A', 11, 15, 5, 'A', branco, 40, 30, 'A', 9, 10, 3, branco, 10, 35, 25])\n",
    "tabela = np.array(tabela).reshape(5,4)\n",
    "tabela\n",
    "\n",
    "df = pd.DataFrame(tabela, index=linhas, columns=colunas)\n",
    "df\n"
   ]
  },
  {
   "cell_type": "code",
   "execution_count": 178,
   "id": "7c782328",
   "metadata": {},
   "outputs": [
    {
     "name": "stdout",
     "output_type": "stream",
     "text": [
      "Essa foi a média de gols marcados desses jogadores:\n",
      " 24.0\n"
     ]
    }
   ],
   "source": [
    "media = df['Gols']\n",
    "media = media.mean()\n",
    "print(f\"Essa foi a média de gols marcados desses jogadores:\\n {media}\")"
   ]
  },
  {
   "cell_type": "code",
   "execution_count": 180,
   "id": "6b38dc91",
   "metadata": {},
   "outputs": [
    {
     "name": "stdout",
     "output_type": "stream",
     "text": [
      "Desvio padrão: \n",
      "11.91\n"
     ]
    }
   ],
   "source": [
    "desvioPadrao = df['Assistências'].std()\n",
    "print(f'Desvio padrão: \\n{desvioPadrao:.2f}')"
   ]
  },
  {
   "cell_type": "markdown",
   "id": "370e1c64",
   "metadata": {},
   "source": [
    "# Substitua as posições ausentes por NC (Não consta);"
   ]
  },
  {
   "cell_type": "code",
   "execution_count": 90,
   "id": "861f5cb3",
   "metadata": {},
   "outputs": [
    {
     "data": {
      "text/html": [
       "<div>\n",
       "<style scoped>\n",
       "    .dataframe tbody tr th:only-of-type {\n",
       "        vertical-align: middle;\n",
       "    }\n",
       "\n",
       "    .dataframe tbody tr th {\n",
       "        vertical-align: top;\n",
       "    }\n",
       "\n",
       "    .dataframe thead th {\n",
       "        text-align: right;\n",
       "    }\n",
       "</style>\n",
       "<table border=\"1\" class=\"dataframe\">\n",
       "  <thead>\n",
       "    <tr style=\"text-align: right;\">\n",
       "      <th></th>\n",
       "      <th>Posição</th>\n",
       "      <th>Camisa</th>\n",
       "      <th>Gols</th>\n",
       "      <th>Assistências</th>\n",
       "    </tr>\n",
       "  </thead>\n",
       "  <tbody>\n",
       "    <tr>\n",
       "      <th>Fumagalli</th>\n",
       "      <td>M</td>\n",
       "      <td>NaN</td>\n",
       "      <td>20</td>\n",
       "      <td>15</td>\n",
       "    </tr>\n",
       "    <tr>\n",
       "      <th>Carlinhos Bala</th>\n",
       "      <td>A</td>\n",
       "      <td>11</td>\n",
       "      <td>15</td>\n",
       "      <td>5</td>\n",
       "    </tr>\n",
       "    <tr>\n",
       "      <th>Leonardo</th>\n",
       "      <td>A</td>\n",
       "      <td>NaN</td>\n",
       "      <td>40</td>\n",
       "      <td>30</td>\n",
       "    </tr>\n",
       "    <tr>\n",
       "      <th>Neto Baiano</th>\n",
       "      <td>A</td>\n",
       "      <td>9</td>\n",
       "      <td>10</td>\n",
       "      <td>3</td>\n",
       "    </tr>\n",
       "    <tr>\n",
       "      <th>Diego Souza</th>\n",
       "      <td>NC</td>\n",
       "      <td>10</td>\n",
       "      <td>35</td>\n",
       "      <td>25</td>\n",
       "    </tr>\n",
       "  </tbody>\n",
       "</table>\n",
       "</div>"
      ],
      "text/plain": [
       "               Posição Camisa Gols Assistências\n",
       "Fumagalli            M    NaN   20           15\n",
       "Carlinhos Bala       A     11   15            5\n",
       "Leonardo             A    NaN   40           30\n",
       "Neto Baiano          A      9   10            3\n",
       "Diego Souza         NC     10   35           25"
      ]
     },
     "execution_count": 90,
     "metadata": {},
     "output_type": "execute_result"
    }
   ],
   "source": [
    "df['Posição'] = df['Posição'].fillna('NC')\n",
    "df"
   ]
  },
  {
   "cell_type": "code",
   "execution_count": null,
   "id": "8cd2722e",
   "metadata": {},
   "outputs": [],
   "source": []
  },
  {
   "cell_type": "markdown",
   "id": "0cd6d43a",
   "metadata": {},
   "source": [
    "# Substitua os números de camisa ausentes por SN (Sem número);"
   ]
  },
  {
   "cell_type": "code",
   "execution_count": 92,
   "id": "f4bde9b3",
   "metadata": {},
   "outputs": [
    {
     "data": {
      "text/html": [
       "<div>\n",
       "<style scoped>\n",
       "    .dataframe tbody tr th:only-of-type {\n",
       "        vertical-align: middle;\n",
       "    }\n",
       "\n",
       "    .dataframe tbody tr th {\n",
       "        vertical-align: top;\n",
       "    }\n",
       "\n",
       "    .dataframe thead th {\n",
       "        text-align: right;\n",
       "    }\n",
       "</style>\n",
       "<table border=\"1\" class=\"dataframe\">\n",
       "  <thead>\n",
       "    <tr style=\"text-align: right;\">\n",
       "      <th></th>\n",
       "      <th>Posição</th>\n",
       "      <th>Camisa</th>\n",
       "      <th>Gols</th>\n",
       "      <th>Assistências</th>\n",
       "    </tr>\n",
       "  </thead>\n",
       "  <tbody>\n",
       "    <tr>\n",
       "      <th>Fumagalli</th>\n",
       "      <td>M</td>\n",
       "      <td>SN</td>\n",
       "      <td>20</td>\n",
       "      <td>15</td>\n",
       "    </tr>\n",
       "    <tr>\n",
       "      <th>Carlinhos Bala</th>\n",
       "      <td>A</td>\n",
       "      <td>11</td>\n",
       "      <td>15</td>\n",
       "      <td>5</td>\n",
       "    </tr>\n",
       "    <tr>\n",
       "      <th>Leonardo</th>\n",
       "      <td>A</td>\n",
       "      <td>SN</td>\n",
       "      <td>40</td>\n",
       "      <td>30</td>\n",
       "    </tr>\n",
       "    <tr>\n",
       "      <th>Neto Baiano</th>\n",
       "      <td>A</td>\n",
       "      <td>9</td>\n",
       "      <td>10</td>\n",
       "      <td>3</td>\n",
       "    </tr>\n",
       "    <tr>\n",
       "      <th>Diego Souza</th>\n",
       "      <td>NC</td>\n",
       "      <td>10</td>\n",
       "      <td>35</td>\n",
       "      <td>25</td>\n",
       "    </tr>\n",
       "  </tbody>\n",
       "</table>\n",
       "</div>"
      ],
      "text/plain": [
       "               Posição Camisa Gols Assistências\n",
       "Fumagalli            M     SN   20           15\n",
       "Carlinhos Bala       A     11   15            5\n",
       "Leonardo             A     SN   40           30\n",
       "Neto Baiano          A      9   10            3\n",
       "Diego Souza         NC     10   35           25"
      ]
     },
     "execution_count": 92,
     "metadata": {},
     "output_type": "execute_result"
    }
   ],
   "source": [
    "df['Camisa'] = df['Camisa'].fillna('SN')\n",
    "df"
   ]
  },
  {
   "cell_type": "code",
   "execution_count": null,
   "id": "4438e214",
   "metadata": {},
   "outputs": [],
   "source": []
  },
  {
   "cell_type": "markdown",
   "id": "015dc456",
   "metadata": {},
   "source": [
    "# Exiba as informações do artilheiro do time;"
   ]
  },
  {
   "cell_type": "code",
   "execution_count": 153,
   "id": "b1ca5464",
   "metadata": {},
   "outputs": [
    {
     "data": {
      "text/html": [
       "<div>\n",
       "<style scoped>\n",
       "    .dataframe tbody tr th:only-of-type {\n",
       "        vertical-align: middle;\n",
       "    }\n",
       "\n",
       "    .dataframe tbody tr th {\n",
       "        vertical-align: top;\n",
       "    }\n",
       "\n",
       "    .dataframe thead th {\n",
       "        text-align: right;\n",
       "    }\n",
       "</style>\n",
       "<table border=\"1\" class=\"dataframe\">\n",
       "  <thead>\n",
       "    <tr style=\"text-align: right;\">\n",
       "      <th></th>\n",
       "      <th>Posição</th>\n",
       "      <th>Camisa</th>\n",
       "      <th>Gols</th>\n",
       "      <th>Assistências</th>\n",
       "    </tr>\n",
       "  </thead>\n",
       "  <tbody>\n",
       "    <tr>\n",
       "      <th>Leonardo</th>\n",
       "      <td>A</td>\n",
       "      <td>SN</td>\n",
       "      <td>40</td>\n",
       "      <td>30</td>\n",
       "    </tr>\n",
       "  </tbody>\n",
       "</table>\n",
       "</div>"
      ],
      "text/plain": [
       "         Posição Camisa Gols Assistências\n",
       "Leonardo       A     SN   40           30"
      ]
     },
     "execution_count": 153,
     "metadata": {},
     "output_type": "execute_result"
    }
   ],
   "source": [
    "artilheiro = df.loc[df['Gols'] == df['Gols'].max()]\n",
    "artilheiro"
   ]
  },
  {
   "cell_type": "code",
   "execution_count": null,
   "id": "530b928a",
   "metadata": {},
   "outputs": [],
   "source": []
  },
  {
   "cell_type": "markdown",
   "id": "7a935a41",
   "metadata": {},
   "source": [
    "# Exiba o nome e a posição do jogador com o maior número de assistências"
   ]
  },
  {
   "cell_type": "code",
   "execution_count": 181,
   "id": "8a24580d",
   "metadata": {},
   "outputs": [
    {
     "name": "stdout",
     "output_type": "stream",
     "text": [
      "O nome do jogador com o maior índice de assistências e a sua posição em campo:\n",
      "  Leonardo    A\n",
      "Name: Posição, dtype: object\n"
     ]
    }
   ],
   "source": [
    "assistencias = df.loc[df['Assistências'] == df['Assistências'].max()]\n",
    "print('O nome do jogador com o maior índice de assistências e a sua posição em campo:\\n ', assistencias['Posição'])"
   ]
  },
  {
   "cell_type": "code",
   "execution_count": null,
   "id": "3027ce0b",
   "metadata": {},
   "outputs": [],
   "source": []
  },
  {
   "cell_type": "code",
   "execution_count": null,
   "id": "3dc6c63b",
   "metadata": {},
   "outputs": [],
   "source": []
  }
 ],
 "metadata": {
  "kernelspec": {
   "display_name": "Python 3 (ipykernel)",
   "language": "python",
   "name": "python3"
  },
  "language_info": {
   "codemirror_mode": {
    "name": "ipython",
    "version": 3
   },
   "file_extension": ".py",
   "mimetype": "text/x-python",
   "name": "python",
   "nbconvert_exporter": "python",
   "pygments_lexer": "ipython3",
   "version": "3.9.12"
  }
 },
 "nbformat": 4,
 "nbformat_minor": 5
}
